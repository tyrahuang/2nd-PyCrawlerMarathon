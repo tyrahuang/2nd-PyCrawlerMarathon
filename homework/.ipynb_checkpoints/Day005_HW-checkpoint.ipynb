{
 "cells": [
  {
   "cell_type": "markdown",
   "metadata": {},
   "source": [
    "# API 資料串接 - 以 Dcard API 實作範例\n",
    "\n",
    "* 了解 Dcard API 使用方式與回傳內容\n",
    "* 撰寫程式存取 API 且解析 JSON 格式資料\n"
   ]
  },
  {
   "cell_type": "markdown",
   "metadata": {},
   "source": [
    "## 作業目標\n",
    "\n",
    "* 請利用 API: https://www.dcard.tw/_api/forums/pet/posts?popular=true 回答下列問題：\n",
    "\n",
    "1. 這個 API 一次會回傳幾筆資料？每一筆資料包含哪些欄位？\n",
    "2. 取出每一筆資料的「標題」、「貼文時間」、「留言人數」、「按讚人數」\n",
    "3. 計算熱門/非熱門文章的「平均留言人數」與「平均按讚人數」"
   ]
  },
  {
   "cell_type": "code",
   "execution_count": 21,
   "metadata": {},
   "outputs": [
    {
     "name": "stdout",
     "output_type": "stream",
     "text": [
      "共回傳 30 筆資料\n",
      "每筆資料包含以下欄位\n",
      "dict_keys(['id', 'title', 'excerpt', 'anonymousSchool', 'anonymousDepartment', 'pinned', 'forumId', 'replyId', 'createdAt', 'updatedAt', 'commentCount', 'likeCount', 'withNickname', 'tags', 'topics', 'meta', 'forumName', 'forumAlias', 'gender', 'school', 'replyTitle', 'mediaMeta', 'reactions', 'hidden', 'customStyle', 'isSuspiciousAccount', 'layout', 'withImages', 'withVideos', 'media', 'reportReasonText', 'postAvatar'])\n"
     ]
    }
   ],
   "source": [
    "# 1. 這個 API 一次會回傳幾筆資料？每一筆資料包含哪些欄位？\n",
    "\n",
    "import requests\n",
    "r = requests.get('https://www.dcard.tw/_api/forums/pet/posts?popular=true')\n",
    "response = r.text\n",
    "\n",
    "\n",
    "import json\n",
    "data = json.loads(response) # data is list, and each list contains dict\n",
    "print('共回傳',len(data),'筆資料')\n",
    "print('每筆資料包含以下欄位')\n",
    "print (data[0].keys())\n",
    "\n",
    "#for d in data:\n",
    "    #print(type(d))\n",
    "    #print(d['title'])"
   ]
  },
  {
   "cell_type": "code",
   "execution_count": 17,
   "metadata": {},
   "outputs": [
    {
     "name": "stdout",
     "output_type": "stream",
     "text": [
      "一秒變神奇寶貝瑪狃拉 2020-03-01T15:08:55.199Z 留言人數: 25 按讚人數 867\n",
      "我的貓是什麼品種？ 2020-03-01T11:15:38.320Z 留言人數: 30 按讚人數 569\n",
      "曬個法鬥 2020-03-01T11:49:19.897Z 留言人數: 17 按讚人數 184\n",
      "我說睡就睡 2020-03-01T16:45:23.608Z 留言人數: 3 按讚人數 122\n",
      "三重 協尋貓咪\n",
      "請大家幫忙留意~謝謝 QAQ 2020-03-01T01:23:57.748Z 留言人數: 1 按讚人數 77\n",
      "不小心敗了一件少女風給茶包 2020-03-02T02:06:21.546Z 留言人數: 4 按讚人數 72\n",
      "黃金瑞比崩壞系列 2020-03-01T08:42:58.993Z 留言人數: 5 按讚人數 65\n",
      "#圖#貓 三年後妳的樣子 2020-03-01T08:33:55.003Z 留言人數: 2 按讚人數 63\n",
      "你太可愛了喔(⁎⁍̴̛ᴗ⁍̴̛⁎) 2020-03-01T05:24:26.503Z 留言人數: 5 按讚人數 55\n",
      "🐹🐹想你 2020-03-01T06:20:58.390Z 留言人數: 4 按讚人數 45\n",
      "我要通緝妳的狗🚓 2020-03-02T01:35:29.456Z 留言人數: 2 按讚人數 43\n",
      "我就爛啦喵！ 2020-03-02T04:45:11.891Z 留言人數: 6 按讚人數 42\n",
      "士在哈嘍！ 2020-03-01T21:07:31.469Z 留言人數: 3 按讚人數 37\n",
      "遛貓絕對不是好點子 2020-03-02T04:38:40.592Z 留言人數: 1 按讚人數 32\n",
      "⚠️急尋貓 2020-03-01T12:21:16.288Z 留言人數: 0 按讚人數 27\n",
      "我家的貓真的覺得自己是女王^_^ 2020-03-01T10:53:27.848Z 留言人數: 4 按讚人數 23\n",
      "你認真的表情讓我害怕 2020-03-01T05:58:55.903Z 留言人數: 2 按讚人數 18\n",
      "在動物醫院工作的小確幸 2020-03-01T11:40:24.081Z 留言人數: 5 按讚人數 16\n",
      "台中太平洋鸚鵡飛失 2020-03-01T11:11:54.026Z 留言人數: 1 按讚人數 16\n",
      "另一種方式曬貓♥️ 2020-03-01T14:40:27.782Z 留言人數: 3 按讚人數 14\n",
      "喵睡姿 2020-03-01T12:04:06.947Z 留言人數: 2 按讚人數 13\n",
      "協尋三重的貓咪 2020-03-01T05:37:48.813Z 留言人數: 1 按讚人數 12\n",
      "男朋友加班，感到生無可戀的貓 2020-03-01T17:24:38.496Z 留言人數: 1 按讚人數 11\n",
      "養了狗以後。爸媽的轉變😱 2020-03-01T13:45:55.493Z 留言人數: 2 按讚人數 11\n",
      "對喔! (正主出現嘍!) 2020-03-02T05:09:05.207Z 留言人數: 3 按讚人數 10\n",
      "3K英短？ 2020-03-01T07:29:05.010Z 留言人數: 15 按讚人數 9\n",
      "乖乖當個小天使👼🏻 2020-03-02T08:05:42.046Z 留言人數: 0 按讚人數 8\n",
      "協尋：如果您發現玄鳳 （新北新店） 2020-03-02T05:33:55.438Z 留言人數: 0 按讚人數 8\n",
      "這次男友吃醋了 2020-03-01T18:18:58.220Z 留言人數: 0 按讚人數 8\n",
      "協尋！藍色虎皮鸚鵡！！！ 2020-03-01T17:50:22.003Z 留言人數: 1 按讚人數 8\n"
     ]
    }
   ],
   "source": [
    "# 2. 取出每一筆資料的「標題」、「貼文時間」、「留言人數」、「按讚人數」\n",
    "\n",
    "import requests\n",
    "r = requests.get('https://www.dcard.tw/_api/forums/pet/posts?popular=true')\n",
    "response = r.text\n",
    "\n",
    "\n",
    "import json\n",
    "data = json.loads(response) # data is list, and each list contains dict\n",
    "#print('共回傳',len(data),'筆資料')\n",
    "#print('每筆資料包含以下欄位')\n",
    "#print (data[0].keys())\n",
    "for d in data:\n",
    "    print(d['title'],d['createdAt'],'留言人數:',d['commentCount'],'按讚人數',d['likeCount'])\n"
   ]
  },
  {
   "cell_type": "code",
   "execution_count": 25,
   "metadata": {},
   "outputs": [
    {
     "name": "stdout",
     "output_type": "stream",
     "text": [
      "熱門文章的「平均留言人數」: 5.0 熱門文章的「平均按讚人數」: 85.43333333333334\n",
      "非熱門文章的「平均留言人數」: 3.8333333333333335 非熱門文章的「平均按讚人數」: 47.233333333333334\n"
     ]
    }
   ],
   "source": [
    "# 3. 計算熱門/非熱門文章的「平均留言人數」與「平均按讚人數」\n",
    "import requests\n",
    "import json\n",
    "import numpy\n",
    "r = requests.get('https://www.dcard.tw/_api/forums/pet/posts?popular=true')\n",
    "response = r.text\n",
    "data = json.loads(response) # data is list, and each list contains dict\n",
    "\n",
    "popularcomment = []\n",
    "popularlike = []\n",
    "\n",
    "for d in data:\n",
    "    popularcomment.append(d['commentCount'])\n",
    "    popularlike.append(d['likeCount'])                                                               \n",
    "print('熱門文章的「平均留言人數」:',numpy.mean(popularcomment),\n",
    "      '熱門文章的「平均按讚人數」:',numpy.mean(popularlike))\n",
    "\n",
    "\n",
    "r = requests.get('https://www.dcard.tw/_api/forums/pet/posts?popular=false')\n",
    "response = r.text\n",
    "data = json.loads(response) # data is list, and each list contains dict\n",
    "\n",
    "unpopularcomment = []\n",
    "unpopularlike = []\n",
    "\n",
    "for d in data:\n",
    "    unpopularcomment.append(d['commentCount'])\n",
    "    unpopularlike.append(d['likeCount'])                                                               \n",
    "print('非熱門文章的「平均留言人數」:',numpy.mean(unpopularcomment),\n",
    "      '非熱門文章的「平均按讚人數」:',numpy.mean(unpopularlike))\n"
   ]
  },
  {
   "cell_type": "code",
   "execution_count": null,
   "metadata": {},
   "outputs": [],
   "source": []
  },
  {
   "cell_type": "code",
   "execution_count": null,
   "metadata": {},
   "outputs": [],
   "source": []
  }
 ],
 "metadata": {
  "kernelspec": {
   "display_name": "Python 3",
   "language": "python",
   "name": "python3"
  },
  "language_info": {
   "codemirror_mode": {
    "name": "ipython",
    "version": 3
   },
   "file_extension": ".py",
   "mimetype": "text/x-python",
   "name": "python",
   "nbconvert_exporter": "python",
   "pygments_lexer": "ipython3",
   "version": "3.7.4"
  }
 },
 "nbformat": 4,
 "nbformat_minor": 2
}
