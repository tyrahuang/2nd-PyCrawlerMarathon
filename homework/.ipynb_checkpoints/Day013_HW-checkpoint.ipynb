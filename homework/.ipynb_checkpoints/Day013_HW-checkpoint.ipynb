{
 "cells": [
  {
   "cell_type": "markdown",
   "metadata": {},
   "source": [
    "# PTT 網路爬蟲實作練習\n",
    "\n",
    "\n",
    "* 能夠利用 Request + BeatifulSour 撰寫爬蟲，並存放到合適的資料結構\n"
   ]
  },
  {
   "cell_type": "markdown",
   "metadata": {},
   "source": [
    "## 作業目標\n",
    "\n",
    "根據範例 ，完成以下問題：\n",
    "\n",
    "* ① 印出最新文章的「作者」「標題」「時間」\n",
    "* ② 印出第一頁所有文章的「作者」「標題」「時間」\n"
   ]
  },
  {
   "cell_type": "markdown",
   "metadata": {},
   "source": [
    "### ① 印出最新文章的「作者」「標題」「時間」"
   ]
  },
  {
   "cell_type": "code",
   "execution_count": 28,
   "metadata": {},
   "outputs": [
    {
     "name": "stdout",
     "output_type": "stream",
     "text": [
      "作者: Ten6666\n",
      "標題: Re: [花邊] Jimmy Butler講當初會離開76人的原因\n",
      "時間:  3/13\n"
     ]
    }
   ],
   "source": [
    "import requests\n",
    "from bs4 import BeautifulSoup\n",
    "\n",
    "url = 'https://www.ptt.cc/bbs/NBA/index.html'\n",
    "r = requests.get(url)\n",
    "\n",
    "soup = BeautifulSoup(r.text, \"html5lib\")\n",
    "d = soup.find(class_=\"title\")\n",
    "a = soup.find(class_=\"author\")\n",
    "t = soup.find(class_=\"date\")\n",
    "print(\"作者:\", a.text.replace('\\t', '').replace('\\n', ''))\n",
    "print(\"標題:\",d.text.replace('\\t', '').replace('\\n', ''))\n",
    "print(\"時間:\",t.text.replace('\\t', '').replace('\\n', ''))\n"
   ]
  },
  {
   "cell_type": "markdown",
   "metadata": {},
   "source": [
    "### ② 印出第一頁所有文章的「作者」「標題」「時間」"
   ]
  },
  {
   "cell_type": "code",
   "execution_count": 46,
   "metadata": {},
   "outputs": [
    {
     "name": "stdout",
     "output_type": "stream",
     "text": [
      "標題:  Re: [花邊] Jimmy Butler講當初會離開76人的原因\n",
      "作者: Ten6666 (德否魯曼)\n",
      "時間: Fri Mar 13 19:45:20 2020\n",
      "標題:  Fw: [討論] 讓賽季繼續的方法\n",
      "作者: Vedan (味丹)\n",
      "時間: Fri Mar 13 20:06:19 2020\n",
      "標題:  [情報] 籃網蔡崇信轉丁丁推特承諾照顧球館員工\n",
      "作者: Yui5 (唯控)\n",
      "時間: Fri Mar 13 20:33:13 2020\n",
      "標題:  [公告] 板規v6.8\n",
      "標題:  [公告] 版主上任相關事項 \n",
      "作者: qazwsx879345 (Rajon Rondo)\n",
      "時間: Fri Oct 25 10:44:03 2019\n",
      "標題:  [情報] SEASON Schedule 賽程 March 19–20\n",
      "作者: Acetoxy (阿斯)\n",
      "時間: Mon Mar  2 01:19:40 2020\n",
      "標題:  [公告] 第一次被退文，可在三天後刪除退文\n",
      "作者: Vedan (味丹)\n",
      "時間: Mon Mar  9 11:44:26 2020\n",
      "標題:  [公告]大怒灌 \n",
      "作者: namie810303 (NBA)\n",
      "時間: Thu Mar 12 09:57:19 2020\n"
     ]
    }
   ],
   "source": [
    "\n",
    "for d in soup.find_all(class_=\"title\"):\n",
    "    #print (d.text)\n",
    "    #print(d.text.replace('\\t', '').replace('\\n', ''))\n",
    "    print(\"標題: \",d.text.replace('\\t', '').replace('\\n', ''))\n",
    "    try:\n",
    "        r = BeautifulSoup(requests.get('https://www.ptt.cc'+d.find('a')['href']).text, \"html5lib\")\n",
    "        #print(type(r.find_all(class_='article-meta-value')))\n",
    "        #print (r.find_all(class_='article-meta-value'))\n",
    "        print ('作者:',r.find_all(class_='article-meta-value')[0].text.replace('\\t', '').replace('\\n', ''))\n",
    "        print ('時間:',r.find_all(class_='article-meta-value')[3].text.replace('\\t', '').replace('\\n', ''))\n",
    "        \n",
    "    except:\n",
    "        continue"
   ]
  },
  {
   "cell_type": "markdown",
   "metadata": {},
   "source": [
    "### ③ 試著爬爬看其他版的文章"
   ]
  },
  {
   "cell_type": "code",
   "execution_count": null,
   "metadata": {},
   "outputs": [],
   "source": [
    "'''\n",
    "Your Code\n",
    "'''"
   ]
  }
 ],
 "metadata": {
  "kernelspec": {
   "display_name": "Python 3",
   "language": "python",
   "name": "python3"
  },
  "language_info": {
   "codemirror_mode": {
    "name": "ipython",
    "version": 3
   },
   "file_extension": ".py",
   "mimetype": "text/x-python",
   "name": "python",
   "nbconvert_exporter": "python",
   "pygments_lexer": "ipython3",
   "version": "3.7.4"
  }
 },
 "nbformat": 4,
 "nbformat_minor": 2
}
