{
 "cells": [
  {
   "cell_type": "markdown",
   "metadata": {},
   "source": [
    "# Python 下載XML檔案與解析\n",
    "\n",
    "\n",
    "* 了解 xml 檔案格式與內容\n",
    "* 能夠利用套件存取 xml 格式的檔案\n"
   ]
  },
  {
   "cell_type": "markdown",
   "metadata": {},
   "source": [
    "## 作業目標\n",
    "\n",
    "* 比較一下範例檔案中的「File I/O」與「xmltodict」讀出來的內容有什麼差異\n",
    "\n",
    "* 根據範例檔案的結果：\n",
    "    1. 請問高雄市有多少地區有溫度資料？\n",
    "    2. 請取出每一個地區所記錄的第一個時間點跟溫度\n",
    "    3. 請取出第一個地區所記錄的每一個時間點跟溫度"
   ]
  },
  {
   "cell_type": "markdown",
   "metadata": {},
   "source": [
    "### 比較一下範例檔案中的「File I/O」與「xmltodict」讀出來的內容有什麼差異\n",
    "\n",
    "* File I/O 讀出的內容為str形式,必須一個個字元慢慢對應想使用得內容\n",
    "* xmltodict 讀出的內容可存為dict形式,可直接用對應的索引叫出內容"
   ]
  },
  {
   "cell_type": "code",
   "execution_count": 98,
   "metadata": {},
   "outputs": [
    {
     "name": "stdout",
     "output_type": "stream",
     "text": [
      "======= File I/O ========\n",
      "<?xml version=\"1.0\" encoding=\"UTF-8\"?>\n",
      "<CUPOY>\n",
      "    <Title>爬蟲馬拉松</Title>\n",
      "    <Author>Wei</Author>\n",
      "    <Chapters>\n",
      "        <Chapter name=\"01\">資料來源與存取</Chapter>\n",
      "        <Chapter name=\"02\">靜態網頁爬蟲</Chapter>\n",
      "        <Chapter name=\"03\">動態網頁爬蟲</Chapter>\n",
      "    </Chapters>\n",
      "</CUPOY>\n",
      "<class 'str'> \n",
      "\n",
      "======= xmltodict ========\n",
      "{'CUPOY': OrderedDict([('Title', '爬蟲馬拉松'), ('Author', 'Wei'), ('Chapters', OrderedDict([('Chapter', [OrderedDict([('@name', '01'), ('#text', '資料來源與存取')]), OrderedDict([('@name', '02'), ('#text', '靜態網頁爬蟲')]), OrderedDict([('@name', '03'), ('#text', '動態網頁爬蟲')])])]))])} \n",
      "\n",
      "02\n"
     ]
    }
   ],
   "source": [
    "import xmltodict\n",
    "\n",
    "print('======= File I/O ========')\n",
    "fh = open(\"./Day003/sample.xml\",\"r\",encoding=\"utf-8\")\n",
    "f = fh.read()\n",
    "fh.close()\n",
    "print(f)\n",
    "print(type(f),'\\n')\n",
    "\n",
    "\n",
    "\n",
    "# 存取檔案\n",
    "print('======= xmltodict ========')\n",
    "with open('./Day003/sample.xml',encoding=\"utf-8\") as fd:\n",
    "    #print(xmltodict.parse(fd.read()))\n",
    "    doc = dict(xmltodict.parse(fd.read()))\n",
    "\n",
    "# 存取我們的資訊|\n",
    "print(doc,'\\n')\n",
    "#print(doc['CUPOY']['Chapters']['Chapter'])\n",
    "\n",
    "doc1 = doc['CUPOY']['Chapters']['Chapter']\n",
    "#print(len(doc1))\n",
    "print(doc1[1]['@name'])\n"
   ]
  },
  {
   "cell_type": "markdown",
   "metadata": {},
   "source": [
    "### 根據範例檔案的結果：\n",
    "\n",
    "1. 請問高雄市有多少地區有溫度資料？\n",
    "2. 請取出每一個地區所記錄的第一個時間點跟溫度\n",
    "3. 請取出第一個地區所記錄的每一個時間點跟溫度"
   ]
  },
  {
   "cell_type": "code",
   "execution_count": 135,
   "metadata": {},
   "outputs": [
    {
     "name": "stdout",
     "output_type": "stream",
     "text": [
      "高雄市共有 38 地區有溫度資料\n"
     ]
    }
   ],
   "source": [
    "# 1. 請問高雄市有多少地區有溫度資料？\n",
    "with open('./Day003/64_72hr_CH.xml',encoding=\"utf-8\") as fd:\n",
    "    #print(xmltodict.parse(fd.read()))\n",
    "    doc = dict(xmltodict.parse(fd.read()))\n",
    "    #print(doc)\n",
    "    doc1 = doc['cwbopendata']['dataset']['locations']['location']\n",
    "    print('高雄市共有',len(doc1),'地區有溫度資料')\n",
    "    #print(doc1)"
   ]
  },
  {
   "cell_type": "code",
   "execution_count": 120,
   "metadata": {},
   "outputs": [
    {
     "name": "stdout",
     "output_type": "stream",
     "text": [
      "鹽埕區 溫度 2019-06-28T12:00:00+08:00 33 攝氏度\n",
      "鼓山區 溫度 2019-06-28T12:00:00+08:00 33 攝氏度\n",
      "左營區 溫度 2019-06-28T12:00:00+08:00 33 攝氏度\n",
      "楠梓區 溫度 2019-06-28T12:00:00+08:00 34 攝氏度\n",
      "三民區 溫度 2019-06-28T12:00:00+08:00 32 攝氏度\n",
      "新興區 溫度 2019-06-28T12:00:00+08:00 33 攝氏度\n",
      "前金區 溫度 2019-06-28T12:00:00+08:00 33 攝氏度\n",
      "苓雅區 溫度 2019-06-28T12:00:00+08:00 33 攝氏度\n",
      "前鎮區 溫度 2019-06-28T12:00:00+08:00 33 攝氏度\n",
      "旗津區 溫度 2019-06-28T12:00:00+08:00 32 攝氏度\n",
      "小港區 溫度 2019-06-28T12:00:00+08:00 33 攝氏度\n",
      "鳳山區 溫度 2019-06-28T12:00:00+08:00 34 攝氏度\n",
      "林園區 溫度 2019-06-28T12:00:00+08:00 33 攝氏度\n",
      "大寮區 溫度 2019-06-28T12:00:00+08:00 34 攝氏度\n",
      "大樹區 溫度 2019-06-28T12:00:00+08:00 34 攝氏度\n",
      "大社區 溫度 2019-06-28T12:00:00+08:00 34 攝氏度\n",
      "仁武區 溫度 2019-06-28T12:00:00+08:00 33 攝氏度\n",
      "鳥松區 溫度 2019-06-28T12:00:00+08:00 34 攝氏度\n",
      "岡山區 溫度 2019-06-28T12:00:00+08:00 34 攝氏度\n",
      "橋頭區 溫度 2019-06-28T12:00:00+08:00 35 攝氏度\n",
      "燕巢區 溫度 2019-06-28T12:00:00+08:00 34 攝氏度\n",
      "田寮區 溫度 2019-06-28T12:00:00+08:00 34 攝氏度\n",
      "阿蓮區 溫度 2019-06-28T12:00:00+08:00 34 攝氏度\n",
      "路竹區 溫度 2019-06-28T12:00:00+08:00 33 攝氏度\n",
      "湖內區 溫度 2019-06-28T12:00:00+08:00 33 攝氏度\n",
      "茄萣區 溫度 2019-06-28T12:00:00+08:00 33 攝氏度\n",
      "永安區 溫度 2019-06-28T12:00:00+08:00 32 攝氏度\n",
      "彌陀區 溫度 2019-06-28T12:00:00+08:00 32 攝氏度\n",
      "梓官區 溫度 2019-06-28T12:00:00+08:00 32 攝氏度\n",
      "旗山區 溫度 2019-06-28T12:00:00+08:00 34 攝氏度\n",
      "美濃區 溫度 2019-06-28T12:00:00+08:00 34 攝氏度\n",
      "六龜區 溫度 2019-06-28T12:00:00+08:00 34 攝氏度\n",
      "甲仙區 溫度 2019-06-28T12:00:00+08:00 33 攝氏度\n",
      "杉林區 溫度 2019-06-28T12:00:00+08:00 36 攝氏度\n",
      "內門區 溫度 2019-06-28T12:00:00+08:00 34 攝氏度\n",
      "茂林區 溫度 2019-06-28T12:00:00+08:00 34 攝氏度\n",
      "桃源區 溫度 2019-06-28T12:00:00+08:00 31 攝氏度\n",
      "那瑪夏區 溫度 2019-06-28T12:00:00+08:00 29 攝氏度\n"
     ]
    }
   ],
   "source": [
    "# 2. 請取出每一個地區所記錄的第一個時間點跟溫度\n",
    "with open('./Day003/64_72hr_CH.xml',encoding=\"utf-8\") as fd:\n",
    "    #print(xmltodict.parse(fd.read()))\n",
    "    doc = dict(xmltodict.parse(fd.read()))\n",
    "    #print(doc)\n",
    "    doc1 = doc['cwbopendata']['dataset']['locations']['location']\n",
    "    for fstdata in doc1:\n",
    "        #print(fstdata['weatherElement'])\n",
    "        print(fstdata['locationName'],end = ' ' )\n",
    "        weadoc1 = fstdata['weatherElement']\n",
    "        timedoc1 = weadoc1[0]['time']\n",
    "        valuedoc1 = timedoc1[0]['elementValue']\n",
    "        print(weadoc1[0]['description'],end = ' ' ) # first weatherElement description\n",
    "        print(timedoc1[0]['dataTime'], end = ' ') # frist time \n",
    "        print(valuedoc1['value'], valuedoc1['measures']) \n",
    "    "
   ]
  },
  {
   "cell_type": "code",
   "execution_count": 134,
   "metadata": {},
   "outputs": [
    {
     "name": "stdout",
     "output_type": "stream",
     "text": [
      "鹽埕區\n",
      "2019-06-28T12:00:00+08:00 33 攝氏度\n",
      "2019-06-28T15:00:00+08:00 33 攝氏度\n",
      "2019-06-28T18:00:00+08:00 32 攝氏度\n",
      "2019-06-28T21:00:00+08:00 30 攝氏度\n",
      "2019-06-29T00:00:00+08:00 30 攝氏度\n",
      "2019-06-29T03:00:00+08:00 29 攝氏度\n",
      "2019-06-29T06:00:00+08:00 28 攝氏度\n",
      "2019-06-29T09:00:00+08:00 31 攝氏度\n",
      "2019-06-29T12:00:00+08:00 32 攝氏度\n",
      "2019-06-29T15:00:00+08:00 32 攝氏度\n",
      "2019-06-29T18:00:00+08:00 31 攝氏度\n",
      "2019-06-29T21:00:00+08:00 30 攝氏度\n",
      "2019-06-30T00:00:00+08:00 29 攝氏度\n",
      "2019-06-30T03:00:00+08:00 28 攝氏度\n",
      "2019-06-30T06:00:00+08:00 28 攝氏度\n",
      "2019-06-30T09:00:00+08:00 31 攝氏度\n",
      "2019-06-30T12:00:00+08:00 32 攝氏度\n",
      "2019-06-30T15:00:00+08:00 32 攝氏度\n",
      "2019-06-30T18:00:00+08:00 31 攝氏度\n",
      "2019-06-30T21:00:00+08:00 30 攝氏度\n",
      "2019-07-01T00:00:00+08:00 29 攝氏度\n",
      "2019-07-01T03:00:00+08:00 29 攝氏度\n",
      "2019-07-01T06:00:00+08:00 28 攝氏度\n",
      "2019-07-01T09:00:00+08:00 31 攝氏度\n"
     ]
    }
   ],
   "source": [
    "# 3. 請取出第一個地區所記錄的每一個時間點跟溫度\n",
    "\n",
    "with open('./Day003/64_72hr_CH.xml',encoding=\"utf-8\") as fd:\n",
    "    #print(xmltodict.parse(fd.read()))\n",
    "    doc = dict(xmltodict.parse(fd.read()))\n",
    "    #print(doc)\n",
    "    doc1 = doc['cwbopendata']['dataset']['locations']['location']\n",
    "    weadoc1 = doc1[0]['weatherElement'] # first location's weatherelement\n",
    "    \n",
    "    #timedoc1 = weadoc1['time']\n",
    "    print(doc1[0]['locationName'])\n",
    "    for time in weadoc1[0]['time']: # first weather's total time\n",
    "        valuedoc1 = time['elementValue']\n",
    "        print(time['dataTime'],valuedoc1['value'],valuedoc1['measures'])\n",
    "    "
   ]
  },
  {
   "cell_type": "code",
   "execution_count": null,
   "metadata": {},
   "outputs": [],
   "source": []
  }
 ],
 "metadata": {
  "kernelspec": {
   "display_name": "Python 3",
   "language": "python",
   "name": "python3"
  },
  "language_info": {
   "codemirror_mode": {
    "name": "ipython",
    "version": 3
   },
   "file_extension": ".py",
   "mimetype": "text/x-python",
   "name": "python",
   "nbconvert_exporter": "python",
   "pygments_lexer": "ipython3",
   "version": "3.7.4"
  }
 },
 "nbformat": 4,
 "nbformat_minor": 2
}
